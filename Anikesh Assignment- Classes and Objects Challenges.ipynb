{
 "cells": [
  {
   "cell_type": "code",
   "execution_count": null,
   "id": "76b790db",
   "metadata": {},
   "outputs": [],
   "source": []
  },
  {
   "cell_type": "markdown",
   "id": "19b0417f",
   "metadata": {},
   "source": [
    "## Challenge 1: Square Numbers and Return Their Sum\n"
   ]
  },
  {
   "cell_type": "code",
   "execution_count": 4,
   "id": "820f7148",
   "metadata": {},
   "outputs": [
    {
     "name": "stdout",
     "output_type": "stream",
     "text": [
      "35\n"
     ]
    }
   ],
   "source": [
    "class Point:\n",
    "    def __init__(self,x,y,z): #varibles assigning\n",
    "        self.x,self.y,self.z = x,y,z\n",
    "    def sqSum(self): \n",
    "        return Point.square_value(self.x)+Point.square_value(self.y)+Point.square_value(self.z)\n",
    "    def square_value(val): #square the values\n",
    "        return val ** 2\n",
    "\n",
    "obj = Point(1,3,5)\n",
    "print(obj.sqSum())"
   ]
  },
  {
   "cell_type": "code",
   "execution_count": null,
   "id": "ae79bdeb",
   "metadata": {},
   "outputs": [],
   "source": []
  },
  {
   "cell_type": "markdown",
   "id": "42eee4c8",
   "metadata": {},
   "source": [
    "## Challenge 2: Calculate the Student's Performance"
   ]
  },
  {
   "cell_type": "code",
   "execution_count": 14,
   "id": "33c28a5f",
   "metadata": {},
   "outputs": [
    {
     "name": "stdout",
     "output_type": "stream",
     "text": [
      "210\n",
      "70.0\n"
     ]
    }
   ],
   "source": [
    "class Student:\n",
    "    def __init__(self,name,phy,chm,bio):\n",
    "        self.name,self.phy,self.chm,self.bio = name,phy,chm,bio\n",
    "        \n",
    "    def Total(self):\n",
    "        return self.phy+self.chm+self.bio\n",
    "    \n",
    "    def percentage(self):\n",
    "        return (Student.Total(self) / 300) * 100\n",
    "    \n",
    "std = Student(\"Arun Sai\",80,90,40)\n",
    "\n",
    "print(std.Total())\n",
    "print(std.percentage())"
   ]
  },
  {
   "cell_type": "code",
   "execution_count": null,
   "id": "18d272b9",
   "metadata": {},
   "outputs": [],
   "source": []
  },
  {
   "cell_type": "markdown",
   "id": "f41e603a",
   "metadata": {},
   "source": [
    "## Challenge 3: Implement a Calculator Class"
   ]
  },
  {
   "cell_type": "code",
   "execution_count": 17,
   "id": "36e246c4",
   "metadata": {},
   "outputs": [
    {
     "name": "stdout",
     "output_type": "stream",
     "text": [
      "104\n",
      "84\n",
      "940\n",
      "9.4\n"
     ]
    }
   ],
   "source": [
    "class Calculator:\n",
    "    def __init__(self,num1,num2):\n",
    "        self.num1,self.num2 = num1,num2\n",
    "        \n",
    "    def add(self):\n",
    "        return self.num1+self.num2\n",
    "    def subtract(self):\n",
    "        return self.num1-self.num2\n",
    "    def multiply(self):\n",
    "        return self.num1*self.num2\n",
    "    def divide(self):\n",
    "        return self.num1/self.num2\n",
    "    \n",
    "cal = Calculator(94,10)\n",
    "print(cal.add())\n",
    "print(cal.subtract())\n",
    "print(cal.multiply())\n",
    "print(cal.divide())"
   ]
  },
  {
   "cell_type": "code",
   "execution_count": null,
   "id": "4c4e77d5",
   "metadata": {},
   "outputs": [],
   "source": []
  },
  {
   "cell_type": "code",
   "execution_count": null,
   "id": "b6a9277d",
   "metadata": {},
   "outputs": [],
   "source": []
  },
  {
   "cell_type": "code",
   "execution_count": null,
   "id": "d3d150da",
   "metadata": {},
   "outputs": [],
   "source": []
  }
 ],
 "metadata": {
  "kernelspec": {
   "display_name": "Python 3 (ipykernel)",
   "language": "python",
   "name": "python3"
  },
  "language_info": {
   "codemirror_mode": {
    "name": "ipython",
    "version": 3
   },
   "file_extension": ".py",
   "mimetype": "text/x-python",
   "name": "python",
   "nbconvert_exporter": "python",
   "pygments_lexer": "ipython3",
   "version": "3.10.1"
  }
 },
 "nbformat": 4,
 "nbformat_minor": 5
}
